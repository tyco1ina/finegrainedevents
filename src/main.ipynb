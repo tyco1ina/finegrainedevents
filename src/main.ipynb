{
 "cells": [
  {
   "cell_type": "code",
   "execution_count": 84,
   "metadata": {},
   "outputs": [],
   "source": [
    "import numpy as np\n",
    "import pandas as pd\n",
    "import json\n",
    "import nltk\n",
    "from data_utils import BuildPOS\n",
    "from process_text import BuildVocab, TextToSentences\n",
    "import torch.utils.data as data \n",
    "import time\n",
    "import torch"
   ]
  },
  {
   "cell_type": "code",
   "execution_count": 85,
   "metadata": {},
   "outputs": [],
   "source": [
    "def pretty_print(epoch, loss):\n",
    "    print('Epoch {} completed with loss {:.4f}'.format(epoch + 1, loss * (0.9 ** epoch)))"
   ]
  },
  {
   "cell_type": "code",
   "execution_count": 86,
   "metadata": {},
   "outputs": [],
   "source": [
    "with open('data.json') as f:\n",
    "    dataset = json.load(f)"
   ]
  },
  {
   "cell_type": "code",
   "execution_count": 87,
   "metadata": {},
   "outputs": [
    {
     "name": "stdout",
     "output_type": "stream",
     "text": [
      "Vocabulary built in 1.4545 sec, with size: 6326\n"
     ]
    }
   ],
   "source": [
    "vocab = BuildVocab()\n",
    "start = time.time()\n",
    "for i in range(len(dataset)):\n",
    "    text = TextToSentences(dataset[i]['news'].lower())\n",
    "    vocab.addText(text)\n",
    "print('Vocabulary built in {:.4f} sec, with size: {}'.format(time.time() - start, vocab.n_words))"
   ]
  },
  {
   "cell_type": "code",
   "execution_count": 88,
   "metadata": {},
   "outputs": [
    {
     "name": "stdout",
     "output_type": "stream",
     "text": [
      "POS built in 0.0009 sec, with size: 16\n"
     ]
    }
   ],
   "source": [
    "pos = BuildPOS()\n",
    "start = time.time()\n",
    "for i in range(len(dataset)):\n",
    "    p = dataset[i]['pos']\n",
    "    pos.addPOS(p)\n",
    "print('POS built in {:.4f} sec, with size: {}'.format(time.time() - start, pos.n_pos))"
   ]
  },
  {
   "cell_type": "code",
   "execution_count": 89,
   "metadata": {},
   "outputs": [],
   "source": [
    "class StockPredictionDataset(data.Dataset):\n",
    "    def __init__(self, dataset, vocab, pos):\n",
    "        self.data = dataset\n",
    "        self.vocab = vocab\n",
    "        self.pos = pos\n",
    "    \n",
    "    def __len__(self):\n",
    "        return len(self.data)\n",
    "    \n",
    "    def __getitem__(self, i):\n",
    "        news_, pos_, stock_ = self.data[i]['news'], self.data[i]['pos'], self.data[i]['stock']\n",
    "        news_ = torch.Tensor(self.process_sent(news_)).long()\n",
    "        pos_ = torch.Tensor(self.process_pos(news_, pos_)).long()\n",
    "        stock_ = np.array(stock_)\n",
    "        y = int(np.sum((stock_[-1,:6] - stock_[-2,:6])) > 0) if len(stock_) >= 2 else 1\n",
    "        stock_ = torch.Tensor(stock_)\n",
    "        return news_, pos_, stock_, y\n",
    "    \n",
    "    def process_sent(self, sent):\n",
    "        tokens = nltk.word_tokenize(sent.lower())\n",
    "        out = []\n",
    "        out.append(self.vocab.word2index['<SOS>'])\n",
    "        out.extend([self.vocab.word2index[token] for token in tokens if token in self.vocab.word2index])\n",
    "        out.append(self.vocab.word2index['<EOS>'])\n",
    "        return out\n",
    "    \n",
    "    def process_pos(self, sent, pos):\n",
    "        out = [self.pos.pos2index['<SOS>']]\n",
    "        out.extend([self.pos.pos2index[token] for token in pos])\n",
    "        if len(sent) <= (len(pos) + 1):\n",
    "            pos = pos[:len(sent) - 2] \n",
    "        out.extend([self.pos.pos2index[pos[-1]] for _ in range(len(sent) - len(pos) - 2) ])\n",
    "        out.append(self.pos.pos2index['<EOS>'])\n",
    "        return out\n",
    "            "
   ]
  },
  {
   "cell_type": "code",
   "execution_count": 90,
   "metadata": {},
   "outputs": [],
   "source": [
    "def collate_fn(data):\n",
    "    def merge(sequences, is_token):\n",
    "        lengths = [len(seq) for seq in sequences]\n",
    "        if is_token:\n",
    "            padded_seqs = torch.zeros(len(sequences), max(lengths)).long()\n",
    "        else:\n",
    "            padded_seqs = torch.zeros(len(sequences), max(lengths), 120)\n",
    "        for i, seq in enumerate(sequences):\n",
    "            end = lengths[i]\n",
    "            if end == 0:\n",
    "                continue\n",
    "            padded_seqs[i,:end] = seq[:]\n",
    "        return padded_seqs, lengths\n",
    "              \n",
    "    news, pos, stock, y = [], [], [], []\n",
    "    for i, (news_i, pos_i, stock_i, y_i) in enumerate(data):\n",
    "        news.append(news_i)\n",
    "        pos.append(pos_i)\n",
    "        stock.append(stock_i)\n",
    "        y.append(y_i)\n",
    "    news.sort(key = lambda x: len(x), reverse=True)\n",
    "    pos.sort(key = lambda x: len(x), reverse=True)\n",
    "    stock.sort(key = lambda x: len(x), reverse=True)\n",
    "    news, news_lengths = merge(news, True)\n",
    "    pos, _ = merge(pos, True)\n",
    "    stock, stock_lengths = merge(stock, False)\n",
    "    y = torch.Tensor(y)\n",
    "    return news, pos, stock, y, news_lengths, stock_lengths\n",
    "    "
   ]
  },
  {
   "cell_type": "code",
   "execution_count": 91,
   "metadata": {},
   "outputs": [],
   "source": [
    "dataset = StockPredictionDataset(dataset, vocab, pos)\n",
    "dataloader = torch.utils.data.DataLoader(dataset = dataset, batch_size=64, shuffle=True, collate_fn=collate_fn)"
   ]
  },
  {
   "cell_type": "code",
   "execution_count": 97,
   "metadata": {},
   "outputs": [
    {
     "ename": "ImportError",
     "evalue": "cannot import name 'is_tokenizers_available' from 'transformers.utils' (/Users/tiberiuscolina/Desktop/ComputerStuff/School/nlpfinancial/finegrainedevents/src/.venv/lib/python3.7/site-packages/transformers/utils/__init__.py)",
     "output_type": "error",
     "traceback": [
      "\u001b[0;31m---------------------------------------------------------------------------\u001b[0m",
      "\u001b[0;31mImportError\u001b[0m                               Traceback (most recent call last)",
      "\u001b[0;32m/var/folders/h1/ckvqd8ys0w18r_lfpbms82l80000gn/T/ipykernel_11774/264400091.py\u001b[0m in \u001b[0;36m<module>\u001b[0;34m\u001b[0m\n\u001b[0;32m----> 1\u001b[0;31m \u001b[0;32mfrom\u001b[0m \u001b[0mmodel\u001b[0m \u001b[0;32mimport\u001b[0m \u001b[0mSSPM\u001b[0m\u001b[0;34m,\u001b[0m \u001b[0mMSSPM\u001b[0m\u001b[0;34m\u001b[0m\u001b[0m\n\u001b[0m\u001b[1;32m      2\u001b[0m \u001b[0;32mimport\u001b[0m \u001b[0mtorch\u001b[0m\u001b[0;34m.\u001b[0m\u001b[0mnn\u001b[0m \u001b[0;32mas\u001b[0m \u001b[0mnn\u001b[0m\u001b[0;34m\u001b[0m\u001b[0m\n",
      "\u001b[0;32m~/Desktop/ComputerStuff/School/nlpfinancial/finegrainedevents/src/model.py\u001b[0m in \u001b[0;36m<module>\u001b[0;34m\u001b[0m\n\u001b[1;32m      5\u001b[0m \u001b[0;32mfrom\u001b[0m \u001b[0mtorch\u001b[0m\u001b[0;34m.\u001b[0m\u001b[0mautograd\u001b[0m \u001b[0;32mimport\u001b[0m \u001b[0mVariable\u001b[0m\u001b[0;34m\u001b[0m\u001b[0m\n\u001b[1;32m      6\u001b[0m \u001b[0;32mfrom\u001b[0m \u001b[0mtorch\u001b[0m\u001b[0;34m.\u001b[0m\u001b[0mnn\u001b[0m\u001b[0;34m.\u001b[0m\u001b[0mutils\u001b[0m\u001b[0;34m.\u001b[0m\u001b[0mrnn\u001b[0m \u001b[0;32mimport\u001b[0m \u001b[0mpack_padded_sequence\u001b[0m\u001b[0;34m,\u001b[0m \u001b[0mpad_packed_sequence\u001b[0m\u001b[0;34m\u001b[0m\u001b[0m\n\u001b[0;32m----> 7\u001b[0;31m \u001b[0;32mfrom\u001b[0m \u001b[0mallennlp\u001b[0m\u001b[0;34m.\u001b[0m\u001b[0mmodules\u001b[0m\u001b[0;34m.\u001b[0m\u001b[0melmo\u001b[0m \u001b[0;32mimport\u001b[0m \u001b[0mElmo\u001b[0m\u001b[0;34m,\u001b[0m \u001b[0mbatch_to_ids\u001b[0m\u001b[0;34m\u001b[0m\u001b[0m\n\u001b[0m\u001b[1;32m      8\u001b[0m \u001b[0;34m\u001b[0m\u001b[0m\n\u001b[1;32m      9\u001b[0m \u001b[0;32mclass\u001b[0m \u001b[0mBiLSTM\u001b[0m\u001b[0;34m(\u001b[0m\u001b[0mnn\u001b[0m\u001b[0;34m.\u001b[0m\u001b[0mModule\u001b[0m\u001b[0;34m)\u001b[0m\u001b[0;34m:\u001b[0m\u001b[0;34m\u001b[0m\u001b[0m\n",
      "\u001b[0;32m~/Desktop/ComputerStuff/School/nlpfinancial/finegrainedevents/src/.venv/lib/python3.7/site-packages/allennlp/__init__.py\u001b[0m in \u001b[0;36m<module>\u001b[0;34m\u001b[0m\n\u001b[1;32m     16\u001b[0m     \u001b[0;31m# On some systems this prevents the dreaded\u001b[0m\u001b[0;34m\u001b[0m\u001b[0;34m\u001b[0m\u001b[0m\n\u001b[1;32m     17\u001b[0m     \u001b[0;31m# ImportError: dlopen: cannot load any more object with static TLS\u001b[0m\u001b[0;34m\u001b[0m\u001b[0;34m\u001b[0m\u001b[0m\n\u001b[0;32m---> 18\u001b[0;31m     \u001b[0;32mimport\u001b[0m \u001b[0mtransformers\u001b[0m\u001b[0;34m,\u001b[0m \u001b[0mspacy\u001b[0m\u001b[0;34m,\u001b[0m \u001b[0mtorch\u001b[0m\u001b[0;34m,\u001b[0m \u001b[0mnumpy\u001b[0m  \u001b[0;31m# noqa\u001b[0m\u001b[0;34m\u001b[0m\u001b[0m\n\u001b[0m\u001b[1;32m     19\u001b[0m \u001b[0;34m\u001b[0m\u001b[0m\n\u001b[1;32m     20\u001b[0m \u001b[0;32mexcept\u001b[0m \u001b[0mModuleNotFoundError\u001b[0m\u001b[0;34m:\u001b[0m\u001b[0;34m\u001b[0m\u001b[0m\n",
      "\u001b[0;32m~/Desktop/ComputerStuff/School/nlpfinancial/finegrainedevents/src/.venv/lib/python3.7/site-packages/transformers/__init__.py\u001b[0m in \u001b[0;36m<module>\u001b[0;34m\u001b[0m\n\u001b[1;32m     24\u001b[0m \u001b[0;34m\u001b[0m\u001b[0m\n\u001b[1;32m     25\u001b[0m \u001b[0;31m# Check the dependencies satisfy the minimal versions required.\u001b[0m\u001b[0;34m\u001b[0m\u001b[0;34m\u001b[0m\u001b[0m\n\u001b[0;32m---> 26\u001b[0;31m \u001b[0;32mfrom\u001b[0m \u001b[0;34m.\u001b[0m \u001b[0;32mimport\u001b[0m \u001b[0mdependency_versions_check\u001b[0m\u001b[0;34m\u001b[0m\u001b[0m\n\u001b[0m\u001b[1;32m     27\u001b[0m from .utils import (\n\u001b[1;32m     28\u001b[0m     \u001b[0mOptionalDependencyNotAvailable\u001b[0m\u001b[0;34m,\u001b[0m\u001b[0;34m\u001b[0m\u001b[0m\n",
      "\u001b[0;32m~/Desktop/ComputerStuff/School/nlpfinancial/finegrainedevents/src/.venv/lib/python3.7/site-packages/transformers/dependency_versions_check.py\u001b[0m in \u001b[0;36m<module>\u001b[0;34m\u001b[0m\n\u001b[1;32m     34\u001b[0m         \u001b[0;32mif\u001b[0m \u001b[0mpkg\u001b[0m \u001b[0;34m==\u001b[0m \u001b[0;34m\"tokenizers\"\u001b[0m\u001b[0;34m:\u001b[0m\u001b[0;34m\u001b[0m\u001b[0m\n\u001b[1;32m     35\u001b[0m             \u001b[0;31m# must be loaded here, or else tqdm check may fail\u001b[0m\u001b[0;34m\u001b[0m\u001b[0;34m\u001b[0m\u001b[0m\n\u001b[0;32m---> 36\u001b[0;31m             \u001b[0;32mfrom\u001b[0m \u001b[0;34m.\u001b[0m\u001b[0mutils\u001b[0m \u001b[0;32mimport\u001b[0m \u001b[0mis_tokenizers_available\u001b[0m\u001b[0;34m\u001b[0m\u001b[0m\n\u001b[0m\u001b[1;32m     37\u001b[0m \u001b[0;34m\u001b[0m\u001b[0m\n\u001b[1;32m     38\u001b[0m             \u001b[0;32mif\u001b[0m \u001b[0;32mnot\u001b[0m \u001b[0mis_tokenizers_available\u001b[0m\u001b[0;34m(\u001b[0m\u001b[0;34m)\u001b[0m\u001b[0;34m:\u001b[0m\u001b[0;34m\u001b[0m\u001b[0m\n",
      "\u001b[0;31mImportError\u001b[0m: cannot import name 'is_tokenizers_available' from 'transformers.utils' (/Users/tiberiuscolina/Desktop/ComputerStuff/School/nlpfinancial/finegrainedevents/src/.venv/lib/python3.7/site-packages/transformers/utils/__init__.py)"
     ]
    }
   ],
   "source": [
    "from model import SSPM, MSSPM\n",
    "import torch.nn as nn"
   ]
  },
  {
   "cell_type": "code",
   "execution_count": null,
   "metadata": {},
   "outputs": [
    {
     "ename": "NameError",
     "evalue": "name 'nn' is not defined",
     "output_type": "error",
     "traceback": [
      "\u001b[0;31m---------------------------------------------------------------------------\u001b[0m",
      "\u001b[0;31mNameError\u001b[0m                                 Traceback (most recent call last)",
      "\u001b[0;32m/var/folders/h1/ckvqd8ys0w18r_lfpbms82l80000gn/T/ipykernel_11774/1104365925.py\u001b[0m in \u001b[0;36m<module>\u001b[0;34m\u001b[0m\n\u001b[1;32m      5\u001b[0m \u001b[0mnum_heads\u001b[0m \u001b[0;34m=\u001b[0m \u001b[0;36m4\u001b[0m\u001b[0;34m\u001b[0m\u001b[0m\n\u001b[1;32m      6\u001b[0m \u001b[0mnum_epochs\u001b[0m \u001b[0;34m=\u001b[0m \u001b[0;36m10\u001b[0m\u001b[0;34m\u001b[0m\u001b[0m\n\u001b[0;32m----> 7\u001b[0;31m \u001b[0mcriterion\u001b[0m \u001b[0;34m=\u001b[0m \u001b[0mnn\u001b[0m\u001b[0;34m.\u001b[0m\u001b[0mBCELoss\u001b[0m\u001b[0;34m(\u001b[0m\u001b[0;34m)\u001b[0m\u001b[0;34m\u001b[0m\u001b[0m\n\u001b[0m",
      "\u001b[0;31mNameError\u001b[0m: name 'nn' is not defined"
     ]
    }
   ],
   "source": [
    "word_emb_dim = 256\n",
    "hidden_dim = 256\n",
    "vocab_size = vocab.n_words\n",
    "event_size = pos.n_pos\n",
    "num_heads = 4\n",
    "num_epochs = 10\n",
    "criterion = nn.BCELoss()"
   ]
  },
  {
   "cell_type": "code",
   "execution_count": null,
   "metadata": {},
   "outputs": [],
   "source": [
    "model = SSPM(vocab_size, word_emb_dim, hidden_dim, event_size, num_heads)\n",
    "model.cuda()\n",
    "optimizer = torch.optim.SGD(model.parameters(), lr=1e-2)\n",
    "\n",
    "for e in range(num_epochs):\n",
    "    for i, (news, pos, stock, y, sent_lengths, stock_lengths) in enumerate(dataloader):\n",
    "        bsize = len(news)\n",
    "        for i in range(bsize):\n",
    "            if sent_lengths[i] == 0:\n",
    "                sent_lengths[i] += 1\n",
    "            elif stock_lengths[i] == 0:\n",
    "                stock_lengths[i] += 1\n",
    "        optimizer.zero_grad()\n",
    "        \n",
    "        \"\"\"\n",
    "        news = news.cuda()\n",
    "        pos = pos.cuda()\n",
    "        stock = stock.cuda()\n",
    "        y = y.cuda().view(-1, 1)\n",
    "        probs = model(news, pos, stock, sent_lengths, stock_lengths)\n",
    "        loss = criterion(probs, y)\n",
    "        loss.backward()\n",
    "        optimizer.step()\n",
    "    pretty_print(e, loss.item())   \n",
    "    \"\"\"   "
   ]
  },
  {
   "cell_type": "code",
   "execution_count": null,
   "metadata": {},
   "outputs": [],
   "source": [
    "word_emb_dim = 256\n",
    "hidden_dim = 256\n",
    "vocab_size = vocab.n_words\n",
    "event_size = pos.n_pos\n",
    "num_heads = 4\n",
    "num_epochs = 10\n",
    "eta = 0.5\n",
    "criterion = nn.BCELoss()"
   ]
  },
  {
   "cell_type": "code",
   "execution_count": null,
   "metadata": {},
   "outputs": [],
   "source": [
    "model = MSSPM(vocab_size, word_emb_dim, hidden_dim, event_size, num_heads)\n",
    "model.cuda()\n",
    "optimizer = torch.optim.SGD(model.parameters(), lr=1e-2)\n",
    "for e in range(num_epochs):\n",
    "    for i, (news, pos, stock, y, sent_lengths, stock_lengths) in enumerate(dataloader):\n",
    "        bsize = len(news)\n",
    "        for i in range(bsize):\n",
    "            if sent_lengths[i] == 0:\n",
    "                sent_lengths[i] += 1\n",
    "            elif stock_lengths[i] == 0:\n",
    "                stock_lengths[i] += 1\n",
    "        optimizer.zero_grad()\n",
    "        news = news.cuda()\n",
    "        pos = pos.cuda()\n",
    "        stock = stock.cuda()\n",
    "        y = y.cuda().view(-1, 1)\n",
    "        probs, loss_crf = model(news, pos, stock, sent_lengths, stock_lengths)\n",
    "        loss_bce = criterion(probs, y)\n",
    "        loss = eta * loss_bce + (1 - eta) * loss_crf\n",
    "        loss.backward()\n",
    "        optimizer.step()\n",
    "    pretty_print(e, loss.item())     "
   ]
  }
 ],
 "metadata": {
  "kernelspec": {
   "display_name": "Python 3",
   "language": "python",
   "name": "python3"
  },
  "language_info": {
   "codemirror_mode": {
    "name": "ipython",
    "version": 3
   },
   "file_extension": ".py",
   "mimetype": "text/x-python",
   "name": "python",
   "nbconvert_exporter": "python",
   "pygments_lexer": "ipython3",
   "version": "3.7.0"
  }
 },
 "nbformat": 4,
 "nbformat_minor": 4
}
